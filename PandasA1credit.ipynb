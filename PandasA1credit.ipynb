{
  "nbformat": 4,
  "nbformat_minor": 0,
  "metadata": {
    "colab": {
      "provenance": []
    },
    "kernelspec": {
      "name": "python3",
      "display_name": "Python 3"
    },
    "language_info": {
      "name": "python"
    }
  },
  "cells": [
    {
      "cell_type": "code",
      "execution_count": 60,
      "metadata": {
        "id": "NWWkZvWpwwpb"
      },
      "outputs": [],
      "source": [
        "import numpy as np\n",
        "import pandas as pd\n",
        "\n",
        "Q1 = pd.Series([\"Stina Calista\",\"Fran Hendrix\",\"Cyril Isak\",\"Danilo Norina\"], index = [5281224, 4223241, 4233342, 5012332])\n",
        "\n",
        "Q2 = {\"Roger Clemens\": 133.7,\"Cy Young\": 131.5,\"Walter Johnson\": 117.1,\"Greg Maddux\": 116.7,\"Randy Johnson\": 110.4}\n",
        "\n",
        "Q3 = pd.Series(Q2)\n",
        "\n",
        "occupation = pd.Series([\"Accountant\",\"Data scientist\",\"Manager\",\"Security staff\"], index = [5281224, 4223241, 4233342, 5012332])\n",
        "\n",
        "Q4 = pd.DataFrame({'Name':Q1,'occupation':occupation})\n",
        "\n",
        "\n",
        "pop_dict = {\"China\": 1411778724,\"India\": 1378331486,\"United States\": 331865271,\"Indonesia\": 271350000,\"Pakistan\": 225200000}\n",
        "p1 = pd.Series(pop_dict,name=\"Population\")\n",
        "\n",
        "\n",
        "area_dict ={\"Russia\": 17098246,\"Canada\": 9984670,\"China\": 9596961,\"United States\": 9525067,\"Brazil\": 8515767}\n",
        "p2 = pd.Series(area_dict,name=\"Area\")\n",
        "\n",
        "\n",
        "Q5 = pd.concat([p1,p2],axis=1)\n",
        "\n",
        "\n",
        "Q6 = Q5.loc[['China', 'United States']]\n",
        "\n",
        "\n",
        "Q7 = Q5.loc[Q5['Population'] > 270000000]\n",
        "\n",
        "\n",
        "Q8 = Q5.loc[['Russia', 'Canada']]\n",
        "\n",
        "\n",
        "\n",
        "\n",
        "\n",
        "\n"
      ]
    }
  ]
}